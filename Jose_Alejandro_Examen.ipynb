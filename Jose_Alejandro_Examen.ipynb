{
 "cells": [
  {
   "cell_type": "markdown",
   "metadata": {},
   "source": [
    "# Metodo de Newton raphson"
   ]
  },
  {
   "cell_type": "markdown",
   "metadata": {},
   "source": [
    "Primero para solucionar este problema lo que tenemos que hacer es usar ver el algoritmo de Newton Raphson, para esto primero veamos que la ecuación a la recta tangente en el punto $x_0$ es aproximadamente"
   ]
  },
  {
   "cell_type": "markdown",
   "metadata": {},
   "source": [
    "\\begin{equation}\n",
    "f(x) \\approx f(x_0) + f'(x_0) (x-x_0)\n",
    "\\label{eq1}\n",
    "\\end{equation}"
   ]
  },
  {
   "cell_type": "markdown",
   "metadata": {},
   "source": [
    "una vez hecha esta aproximación lo que se tiene es que entonces se quiere hallar un cero de esta función, y así dar un estimado de la raiz de la función original. De esta forma lo que se tiene entoncesz es que:"
   ]
  },
  {
   "cell_type": "markdown",
   "metadata": {},
   "source": [
    "$$0 = f(x_0) + f'(x_0)(x-x_0)$$"
   ]
  },
  {
   "cell_type": "markdown",
   "metadata": {},
   "source": [
    "Con lo cual se tiene entonces que existe un punto $x_1$ con posibilidades de que sea un zero de esta función. De manera interativa también se puede decir que una vez encontrado $x_1$, por medio de la relación anterior ($x_1=x_0-f(x_0)/f'(x_0)$), se puede buscar un nuevo punto $x_2$ por medio del punto ya encontrado $x_1$. de esta forma se tiene una recurrencia de la forma"
   ]
  },
  {
   "cell_type": "markdown",
   "metadata": {},
   "source": [
    "$$x_{n+1}=x_n - \\frac{f(x_k)}{f'(x_k)}$$"
   ]
  },
  {
   "cell_type": "markdown",
   "metadata": {},
   "source": [
    "Entonces la ecuación anterior parte da una formula interativa para poder aproximarse a un punto de corte de la función original"
   ]
  },
  {
   "cell_type": "markdown",
   "metadata": {},
   "source": [
    "## Ejercicio 1"
   ]
  },
  {
   "cell_type": "markdown",
   "metadata": {},
   "source": [
    "Hallar las raices de la siguente función $f(x)=(x+2)(x-2)(x+4)$.\n",
    "Para esto entonces primero lo que haremos es importar las librerias a utilizar, las cuales son numpy y matplotlib"
   ]
  },
  {
   "cell_type": "code",
   "execution_count": 1,
   "metadata": {},
   "outputs": [],
   "source": [
    "import numpy as np\n",
    "import matplotlib.pylab as plt\n",
    "def f(x):\n",
    "    return (x+2)*(x-2)*(x+4)"
   ]
  },
  {
   "cell_type": "markdown",
   "metadata": {},
   "source": [
    "\n",
    "graficamos primero esta función para ver la forma de esta."
   ]
  },
  {
   "cell_type": "code",
   "execution_count": 15,
   "metadata": {},
   "outputs": [
    {
     "data": {
      "text/plain": [
       "<matplotlib.collections.PathCollection at 0x7f9f30a3e6a0>"
      ]
     },
     "execution_count": 15,
     "metadata": {},
     "output_type": "execute_result"
    },
    {
     "data": {
      "image/png": "[encoded data removed]",
      "text/plain": [
       "<Figure size 432x288 with 1 Axes>"
      ]
     },
     "metadata": {
      "needs_background": "light"
     },
     "output_type": "display_data"
    }
   ],
   "source": [
    "x=np.linspace(-6,5)\n",
    "plt.plot(x,f(x))\n",
    "plt.scatter(-2,f(-2))\n",
    "plt.scatter(2,f(2))\n",
    "plt.scatter(-4,f(-4))"
   ]
  },
  {
   "cell_type": "markdown",
   "metadata": {},
   "source": [
    "De forma análitica ya podemos saber que sus raices son $x=-2, =2, x=-4$, no obstante con el fin de utilizar el metodo, lo que se utilizará es atraves de la gráfica hacer un estimado de la raiz, para el primer caso tomamos $x=2.1$ y hacemos 10 pasos y usamos para la derivada la derivada de la función de forma analitica.\n",
    "\n",
    "$$f'(x) = 3x^2+8x-4$$"
   ]
  },
  {
   "cell_type": "code",
   "execution_count": 16,
   "metadata": {},
   "outputs": [
    {
     "name": "stdout",
     "output_type": "stream",
     "text": [
      "2.0\n"
     ]
    }
   ],
   "source": [
    "def derivada(x):\n",
    "    return 3*x**2+8*x-4\n",
    "x_0=2.1\n",
    "x_k=x_0\n",
    "for i in range(10):\n",
    "    x_k = x_k - f(x_k)/derivada(x_k)\n",
    "print(x_k)"
   ]
  },
  {
   "cell_type": "markdown",
   "metadata": {},
   "source": [
    "como se esperaba obtuvimos la solucion análitica despues de tan sólo 10 pasos, esto se puede generalizar para que lo haga para los 3 punto, por ejemplo tomemos $x=2.1,x=-2.1,x=-4.1$ y veamos como cambiaria nustro codigo"
   ]
  },
  {
   "cell_type": "code",
   "execution_count": 17,
   "metadata": {},
   "outputs": [
    {
     "name": "stdout",
     "output_type": "stream",
     "text": [
      "[ 2. -2. -4.]\n"
     ]
    }
   ],
   "source": [
    "x_0=np.array([2.1,-2.1,-4.1])\n",
    "x_k=x_0\n",
    "for i in range(10):\n",
    "    x_k = x_k - f(x_k)/derivada(x_k)\n",
    "print(x_k)"
   ]
  },
  {
   "cell_type": "markdown",
   "metadata": {},
   "source": [
    "Con lo cual se tiene que obtenemos la respuesta esperada"
   ]
  },
  {
   "cell_type": "markdown",
   "metadata": {},
   "source": [
    "### Diferencias finitas"
   ]
  },
  {
   "cell_type": "markdown",
   "metadata": {},
   "source": [
    "La idea de hallar un metodo por medio de diferencias finitas es intentar aproximar un función $f(x,t)$ a una función tal que esta sea solución a una ecuación diferncial por medio de lo que se conoce como una \"diferencia finita\", esta ecuación puede ser tanto parcial como una ecuación que dependa de tan sólo una variable. La idea es entonces discretizar el espacio con el fin de lograr hacer estas diferencias, punto a punto en el espacio.\n",
    "\n",
    "De esta forma se discretiza el tiempo y el espacio. Esto se hace con el fin de lograr aproximar las derivadas de una función.\n",
    "Primero se tiene:\n",
    "\n",
    "$$f'(x)\\approx \\frac{f(x+h) - f(x)}{h}$$"
   ]
  },
  {
   "cell_type": "markdown",
   "metadata": {},
   "source": [
    "Así por ejemplo para una funcion que depnda tanto de tiempo como del espacio se tiene que:\n",
    "    $$f(x_j,t_n) \\equiv u^n_j$$\n",
    "Y por ende tenemos que haciendo un paso hacia adelante, la dieferncia de la función para este caso se puede aproximar como:\n",
    "$$\\frac{u^{n+1}_{j} -u^{n}_{j} }{k}=\\frac{u_{j+1}^{n}-2u_{j}^{n}+u_{j-1}^{n}}{h^2} $$"
   ]
  },
  {
   "cell_type": "markdown",
   "metadata": {},
   "source": [
    "# Ejercicio"
   ]
  },
  {
   "cell_type": "markdown",
   "metadata": {},
   "source": [
    "Como ejemplo solucionaremos la ecuación de Burgers, la cual está dada por:\n",
    "\n",
    "$${\\frac {\\partial u}{\\partial t}}+u{\\frac {\\partial u}{\\partial x}}=\\nu {\\frac {\\partial ^{2}u}{\\partial x^{2}}}.$$\n",
    "\n",
    "Pero esta para un caso más sencillo puede ser paroximada como para el caso de una onda de choque como:\n",
    "$$\\displaystyle {\\frac {\\partial u}{\\partial t}}+{\\frac {1}{2}}{\\frac {\\partial u^{2}}{\\partial x}}=0.$$\n",
    "\n",
    "Para esto entonces tenemos que aproximar tanto las derivadas temporales como las espaciales. Esto se puede lograr viendo como cambian sus vecinos, para esto veamos que la solucion a esta ecuación se puede hacer de la siguente forma:\n",
    "\n",
    "1) Definimos las condiciones iniciales de nuestro problema, para esto tomamos el problema unidimensional ( recuerde que la ecuación de burges es la solucion a una ecuación de una onda de choque que puede estar viajando en un medio cualquiera), entonces fijamos un $\\Delta x = 0.005$ y un $\\Delta t = 0.01$, luego fijamos la longitud de nuestro problema $L$ para este caso lo tamaremos como 6 de forma arbitraria.\n",
    "acá inicializamos nuestra función como una funcion paso\n",
    "\n",
    "2) definimos el movimiento dado por al segunda derivada, este se puede tomar como la mitad de su valor actual al cuadrado"
   ]
  },
  {
   "cell_type": "code",
   "execution_count": 20,
   "metadata": {},
   "outputs": [],
   "source": [
    " def Con_inicial(delta_x):\n",
    "    L = 6.0\n",
    "    N = L/delta_x + 1 # este será entonces el numero de puntos que tomaremos\n",
    "    x = np.linspace(0.0, L, int(N))\n",
    "    u = np.zeros(int(N))\n",
    "    ii = x<3.0\n",
    "    u[ii] = -1.0\n",
    "    u[~ii] = 0.0\n",
    "    return x, u\n",
    "\n",
    "def flujo(u):\n",
    "    return 0.5 * u**2"
   ]
  },
  {
   "cell_type": "markdown",
   "metadata": {},
   "source": [
    "graficamos con el fin de ver si lo que estamos haciendo si está bien y así tenemos que:"
   ]
  },
  {
   "cell_type": "code",
   "execution_count": 24,
   "metadata": {},
   "outputs": [
    {
     "data": {
      "text/plain": [
       "[<matplotlib.lines.Line2D at 0x7f7d52c9d9e8>]"
      ]
     },
     "execution_count": 24,
     "metadata": {},
     "output_type": "execute_result"
    },
    {
     "data": {
      "image/png": "[encoded data removed]",
      "text/plain": [
       "<Figure size 432x288 with 1 Axes>"
      ]
     },
     "metadata": {
      "needs_background": "light"
     },
     "output_type": "display_data"
    }
   ],
   "source": [
    "x,u = Con_inicial(0.005)\n",
    "plt.plot(x,u)"
   ]
  },
  {
   "cell_type": "markdown",
   "metadata": {},
   "source": [
    "solucionamos ahora el metodo como se planteó antes, para esto hacemos."
   ]
  },
  {
   "cell_type": "code",
   "execution_count": 27,
   "metadata": {},
   "outputs": [],
   "source": [
    "def Lax(u, t_max, delta_t, delta_x):\n",
    "    N_t = int(t_max/delta_t)\n",
    "    u_final = u.copy()\n",
    "    for i in range(N_t):\n",
    "        F = flujo(u)\n",
    "        u_final[1:-1] = 0.5*(u[2:] + u[0:-2]) -  (0.5*delta_t/delta_x)*(F[2:] - F[0:-2]) \n",
    "        u = u_final.copy()\n",
    "    return u_final"
   ]
  },
  {
   "cell_type": "markdown",
   "metadata": {},
   "source": [
    "lo importante a notar acá es que se efectuan copias de u, esto se hace pues python por defecto al asignarle una variable esta se cambia por referencia y no por valor y es importante que durante las interaciones el valor de u no cambie sino hasta el final si se pasarapor referencia no se estaría haciendo de forma adecada el metodo.\n",
    "\n",
    "Por ultimo visualizamos lo obtenido y esto lo hacemos para varios intervalos de tiempo"
   ]
  },
  {
   "cell_type": "code",
   "execution_count": 29,
   "metadata": {},
   "outputs": [],
   "source": [
    "x, u_init = Con_inicial(0.005)\n",
    "t_max_values = [0.0, 0.5, 1.0, 2.0,3.0,4.0]"
   ]
  },
  {
   "cell_type": "code",
   "execution_count": 31,
   "metadata": {},
   "outputs": [
    {
     "data": {
      "image/png": "[encoded data removed]",
      "text/plain": [
       "<Figure size 432x288 with 1 Axes>"
      ]
     },
     "metadata": {
      "needs_background": "light"
     },
     "output_type": "display_data"
    }
   ],
   "source": [
    "for t_max in t_max_values:\n",
    "    delta_x = 0.05\n",
    "    x, u_init = Con_inicial(delta_x)\n",
    "    u_final = Lax(u_init, t_max=t_max,delta_t=0.5*delta_x, delta_x=delta_x)\n",
    "    plt.plot(x, u_final)\n",
    "plt.show()"
   ]
  },
  {
   "cell_type": "markdown",
   "metadata": {},
   "source": [
    "Con la anterior figura se muestra entonces como evoluciona esta onda"
   ]
  },
  {
   "cell_type": "markdown",
   "metadata": {},
   "source": [
    "## Ajuste de unos datos usando estadistica Bayesiana"
   ]
  },
  {
   "cell_type": "code",
   "execution_count": null,
   "metadata": {},
   "outputs": [],
   "source": []
  }
 ],
 "metadata": {
  "kernelspec": {
   "display_name": "Python 3",
   "language": "python",
   "name": "python3"
  },
  "language_info": {
   "codemirror_mode": {
    "name": "ipython",
    "version": 3
   },
   "file_extension": ".py",
   "mimetype": "text/x-python",
   "name": "python",
   "nbconvert_exporter": "python",
   "pygments_lexer": "ipython3",
   "version": "3.6.6"
  }
 },
 "nbformat": 4,
 "nbformat_minor": 2
}
